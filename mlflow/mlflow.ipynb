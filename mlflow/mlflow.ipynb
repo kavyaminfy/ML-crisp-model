{
 "cells": [
  {
   "cell_type": "code",
   "execution_count": 11,
   "id": "6bd75808",
   "metadata": {},
   "outputs": [],
   "source": [
    "import pandas as pd\n",
    "\n",
    "import numpy as np\n",
    "\n",
    "import matplotlib.pyplot as plt\n",
    "\n",
    "import seaborn as sns\n",
    "\n",
    "import math\n",
    "\n",
    "import mlflow\n",
    "\n",
    "import mlflow.sklearn\n",
    "\n",
    "from sklearn.ensemble import VotingClassifier, RandomForestClassifier\n",
    "\n",
    "from sklearn.linear_model import LogisticRegression\n",
    "\n",
    "from xgboost import XGBClassifier\n",
    "\n",
    "from sklearn.model_selection import train_test_split, GridSearchCV, cross_val_score\n",
    "\n",
    "from sklearn.preprocessing import StandardScaler\n",
    "\n",
    "from sklearn.metrics import classification_report, accuracy_score, f1_score, confusion_matrix, ConfusionMatrixDisplay\n",
    "\n",
    "from imblearn.over_sampling import SMOTE\n",
    "\n",
    "import os\n",
    "\n",
    " "
   ]
  },
  {
   "cell_type": "code",
   "execution_count": 12,
   "id": "57fd09c0",
   "metadata": {},
   "outputs": [
    {
     "name": "stdout",
     "output_type": "stream",
     "text": [
      "Shape of dataset: (5000, 14)\n",
      "\n",
      "First 5 rows:\n",
      "   ID  Age  Experience  Income  ZIP Code  Family  CCAvg  Education  Mortgage  \\\n",
      "0   1   25           1      49     91107       4    1.6          1         0   \n",
      "1   2   45          19      34     90089       3    1.5          1         0   \n",
      "2   3   39          15      11     94720       1    1.0          1         0   \n",
      "3   4   35           9     100     94112       1    2.7          2         0   \n",
      "4   5   35           8      45     91330       4    1.0          2         0   \n",
      "\n",
      "   Personal Loan  Securities Account  CD Account  Online  CreditCard  \n",
      "0              0                   1           0       0           0  \n",
      "1              0                   1           0       0           0  \n",
      "2              0                   0           0       0           0  \n",
      "3              0                   0           0       0           0  \n",
      "4              0                   0           0       0           1  \n",
      "\n",
      "Data types and null values:\n",
      "<class 'pandas.core.frame.DataFrame'>\n",
      "RangeIndex: 5000 entries, 0 to 4999\n",
      "Data columns (total 14 columns):\n",
      " #   Column              Non-Null Count  Dtype  \n",
      "---  ------              --------------  -----  \n",
      " 0   ID                  5000 non-null   int64  \n",
      " 1   Age                 5000 non-null   int64  \n",
      " 2   Experience          5000 non-null   int64  \n",
      " 3   Income              5000 non-null   int64  \n",
      " 4   ZIP Code            5000 non-null   int64  \n",
      " 5   Family              5000 non-null   int64  \n",
      " 6   CCAvg               5000 non-null   float64\n",
      " 7   Education           5000 non-null   int64  \n",
      " 8   Mortgage            5000 non-null   int64  \n",
      " 9   Personal Loan       5000 non-null   int64  \n",
      " 10  Securities Account  5000 non-null   int64  \n",
      " 11  CD Account          5000 non-null   int64  \n",
      " 12  Online              5000 non-null   int64  \n",
      " 13  CreditCard          5000 non-null   int64  \n",
      "dtypes: float64(1), int64(13)\n",
      "memory usage: 547.0 KB\n",
      "None\n"
     ]
    }
   ],
   "source": [
    "import pandas as pd\n",
    "\n",
    "# Load the Excel file\n",
    "df = pd.read_csv(r\"C:\\Users\\Minfy.DESKTOP-81ME0ME\\Downloads\\dataset loan.csv\")\n",
    "\n",
    "# Strip leading/trailing spaces from column names (important!)\n",
    "df.columns = df.columns.str.strip()\n",
    "\n",
    "# View shape and first 5 rows\n",
    "print(\"Shape of dataset:\", df.shape)\n",
    "print(\"\\nFirst 5 rows:\")\n",
    "print(df.head())\n",
    "\n",
    "# Basic info\n",
    "print(\"\\nData types and null values:\")\n",
    "print(df.info())\n",
    "\n"
   ]
  },
  {
   "cell_type": "code",
   "execution_count": 13,
   "id": "c8bc49d6",
   "metadata": {},
   "outputs": [
    {
     "name": "stdout",
     "output_type": "stream",
     "text": [
      "Shape after dropping: (5000, 12)\n",
      "Remaining columns: ['Age', 'Experience', 'Income', 'Family', 'CCAvg', 'Education', 'Mortgage', 'Personal Loan', 'Securities Account', 'CD Account', 'Online', 'CreditCard']\n"
     ]
    }
   ],
   "source": [
    "# Strip column names (to avoid issues with spaces)\n",
    "df.columns = df.columns.str.strip()\n",
    "\n",
    "# Drop 'ID' and 'ZIP Code' if they exist\n",
    "df.drop(columns=['ID', 'ZIP Code'], inplace=True, errors='ignore')\n",
    "\n",
    "# Confirm the shape and columns\n",
    "print(\"Shape after dropping:\", df.shape)\n",
    "print(\"Remaining columns:\", df.columns.tolist())\n"
   ]
  },
  {
   "cell_type": "code",
   "execution_count": 25,
   "id": "8b53fb49",
   "metadata": {},
   "outputs": [
    {
     "name": "stderr",
     "output_type": "stream",
     "text": [
      "2025/07/01 15:15:45 INFO mlflow.tracking.fluent: Experiment with name 'Personal_Loan_Classification' does not exist. Creating a new experiment.\n"
     ]
    },
    {
     "name": "stderr",
     "output_type": "stream",
     "text": [
      "2025/07/01 15:15:45 WARNING mlflow.models.model: `artifact_path` is deprecated. Please use `name` instead.\n",
      "2025/07/01 15:15:53 WARNING mlflow.models.model: Model logged without a signature and input example. Please set `input_example` parameter when logging the model to auto infer the model signature.\n"
     ]
    },
    {
     "name": "stdout",
     "output_type": "stream",
     "text": [
      "✅ Logged Logistic Regression to MLflow with accuracy: 0.8960\n"
     ]
    },
    {
     "name": "stderr",
     "output_type": "stream",
     "text": [
      "2025/07/01 15:15:54 WARNING mlflow.models.model: `artifact_path` is deprecated. Please use `name` instead.\n",
      "2025/07/01 15:15:57 WARNING mlflow.models.model: Model logged without a signature and input example. Please set `input_example` parameter when logging the model to auto infer the model signature.\n"
     ]
    },
    {
     "name": "stdout",
     "output_type": "stream",
     "text": [
      "✅ Logged Random Forest to MLflow with accuracy: 0.9930\n"
     ]
    },
    {
     "name": "stderr",
     "output_type": "stream",
     "text": [
      "2025/07/01 15:15:58 WARNING mlflow.models.model: `artifact_path` is deprecated. Please use `name` instead.\n",
      "2025/07/01 15:16:02 WARNING mlflow.models.model: Model logged without a signature and input example. Please set `input_example` parameter when logging the model to auto infer the model signature.\n"
     ]
    },
    {
     "name": "stdout",
     "output_type": "stream",
     "text": [
      "✅ Logged XGBoost to MLflow with accuracy: 0.9940\n"
     ]
    }
   ],
   "source": [
    "import mlflow\n",
    "import mlflow.sklearn\n",
    "from sklearn.linear_model import LogisticRegression\n",
    "from sklearn.ensemble import RandomForestClassifier\n",
    "from xgboost import XGBClassifier\n",
    "from sklearn.model_selection import train_test_split\n",
    "from sklearn.metrics import classification_report, accuracy_score\n",
    "from imblearn.over_sampling import SMOTE\n",
    "from sklearn.preprocessing import StandardScaler\n",
    "import pandas as pd\n",
    "\n",
    "# 1. Prepare data\n",
    "X = df.drop(columns=['Personal Loan'])\n",
    "y = df['Personal Loan']\n",
    "X = pd.get_dummies(X, drop_first=True)\n",
    "scaler = StandardScaler()\n",
    "X_scaled = scaler.fit_transform(X)\n",
    "X_train, X_test, y_train, y_test = train_test_split(X_scaled, y, test_size=0.2, random_state=42)\n",
    "sm = SMOTE(random_state=42)\n",
    "X_train_res, y_train_res = sm.fit_resample(X_train, y_train)\n",
    "\n",
    "# 2. Define models\n",
    "models = {\n",
    "    \"Logistic Regression\": LogisticRegression(max_iter=1000),\n",
    "    \"Random Forest\": RandomForestClassifier(n_estimators=100, random_state=42),\n",
    "    \"XGBoost\": XGBClassifier(use_label_encoder=False, eval_metric='logloss', random_state=42)\n",
    "}\n",
    "\n",
    "# 3. MLflow experiment (optional: set a name)\n",
    "mlflow.set_experiment(\"Personal_Loan_Classification\")\n",
    "\n",
    "# 4. Train and log each model\n",
    "for model_name, model in models.items():\n",
    "    with mlflow.start_run(run_name=model_name):\n",
    "        model.fit(X_train_res, y_train_res)\n",
    "        y_pred = model.predict(X_test)\n",
    "        acc = accuracy_score(y_test, y_pred)\n",
    "        report = classification_report(y_test, y_pred, output_dict=True)\n",
    "\n",
    "        # Log parameters and metrics\n",
    "        mlflow.log_param(\"model_name\", model_name)\n",
    "        mlflow.log_metric(\"accuracy\", acc)\n",
    "        mlflow.log_metrics({f\"{label}_precision\": report[label][\"precision\"]\n",
    "                            for label in report if label in ['0', '1']})\n",
    "        mlflow.log_metrics({f\"{label}_recall\": report[label][\"recall\"]\n",
    "                            for label in report if label in ['0', '1']})\n",
    "\n",
    "        # Log model\n",
    "        mlflow.sklearn.log_model(model, \"model\")\n",
    "\n",
    "        print(f\"✅ Logged {model_name} to MLflow with accuracy: {acc:.4f}\")\n"
   ]
  },
  {
   "cell_type": "code",
   "execution_count": 28,
   "id": "0e94f133",
   "metadata": {},
   "outputs": [],
   "source": [
    "mlflow.set_tracking_uri(\"http://localhost:5000\")\n"
   ]
  },
  {
   "cell_type": "code",
   "execution_count": 29,
   "id": "a1eeeacf",
   "metadata": {},
   "outputs": [
    {
     "name": "stderr",
     "output_type": "stream",
     "text": [
      "Successfully registered model 'Best_Personal_Loan_Model'.\n",
      "2025/07/01 15:53:12 WARNING mlflow.tracking._model_registry.fluent: Run with id c10454b288a14561b2f5ef5976586f6a has no artifacts at artifact path 'model', registering model based on models:/m-558b38cd361c48a2851d81fab2c18638 instead\n",
      "2025/07/01 15:53:12 INFO mlflow.store.model_registry.abstract_store: Waiting up to 300 seconds for model version to finish creation. Model name: Best_Personal_Loan_Model, version 1\n"
     ]
    },
    {
     "name": "stdout",
     "output_type": "stream",
     "text": [
      "✅ Registered best model from run c10454b288a14561b2f5ef5976586f6a with accuracy 0.9940\n"
     ]
    },
    {
     "name": "stderr",
     "output_type": "stream",
     "text": [
      "Created version '1' of model 'Best_Personal_Loan_Model'.\n"
     ]
    }
   ],
   "source": [
    "import mlflow\n",
    "from mlflow.tracking import MlflowClient\n",
    "\n",
    "client = MlflowClient()\n",
    "experiment_name = \"Personal_Loan_Classification\"\n",
    "experiment = client.get_experiment_by_name(experiment_name)\n",
    "experiment_id = experiment.experiment_id\n",
    "\n",
    "# 🔍 Find best run (based on accuracy)\n",
    "best_run = None\n",
    "best_accuracy = -1\n",
    "\n",
    "for run in client.search_runs(experiment_ids=experiment_id):\n",
    "    acc = run.data.metrics.get(\"accuracy\", 0)\n",
    "    if acc > best_accuracy:\n",
    "        best_accuracy = acc\n",
    "        best_run = run\n",
    "\n",
    "# 🏷 Register model from best run\n",
    "model_uri = f\"runs:/{best_run.info.run_id}/model\"\n",
    "\n",
    "model_name = \"Best_Personal_Loan_Model\"  # You can give any name\n",
    "mlflow.register_model(model_uri=model_uri, name=model_name)\n",
    "\n",
    "print(f\"✅ Registered best model from run {best_run.info.run_id} with accuracy {best_accuracy:.4f}\")\n"
   ]
  },
  {
   "cell_type": "code",
   "execution_count": 36,
   "id": "e7a739c1",
   "metadata": {},
   "outputs": [],
   "source": [
    "import mlflow\n",
    "from mlflow.sklearn import load_model\n",
    "import pandas as pd\n",
    "\n",
    "# Load model from Model Registry\n",
    "model = load_model(\"models:/Best_Personal_Loan_Model/1\")\n"
   ]
  },
  {
   "cell_type": "code",
   "execution_count": 39,
   "id": "4b40f98c",
   "metadata": {},
   "outputs": [
    {
     "name": "stdout",
     "output_type": "stream",
     "text": [
      "Predicted Class: 1\n",
      "Predicted Probabilities: [2.169609e-05 9.999783e-01]\n"
     ]
    }
   ],
   "source": [
    "new_data = pd.DataFrame({\n",
    "    'Age': [35],\n",
    "    'Experience': [10],\n",
    "    'Income': [150],            # 🔼 High income\n",
    "    'Family': [4],\n",
    "    'CCAvg': [5.0],             # 🔼 High credit card spending\n",
    "    'Education': [3],           # 🔼 Highest education level\n",
    "    'Mortgage': [100],          # 🔼 Has mortgage\n",
    "    'Securities Account': [1],  # 🔼 Investment-minded\n",
    "    'CD Account': [1],          # 🔼 CD Account active\n",
    "    'Online': [1],\n",
    "    'CreditCard': [1]\n",
    "})\n",
    "# If your original data had categorical columns encoded:\n",
    "new_data_encoded = pd.get_dummies(new_data, drop_first=True)\n",
    "\n",
    "# Match columns (padding missing ones if needed)\n",
    "missing_cols = set(X.columns) - set(new_data_encoded.columns)\n",
    "for col in missing_cols:\n",
    "    new_data_encoded[col] = 0\n",
    "new_data_encoded = new_data_encoded[X.columns]  # Ensure order\n",
    "\n",
    "# Scale\n",
    "new_scaled = scaler.transform(new_data_encoded)\n",
    "\n",
    "# Predict\n",
    "predicted_class = model.predict(new_scaled)\n",
    "predicted_proba = model.predict_proba(new_scaled)\n",
    "\n",
    "print(f\"Predicted Class: {predicted_class[0]}\")\n",
    "print(f\"Predicted Probabilities: {predicted_proba[0]}\")\n"
   ]
  },
  {
   "cell_type": "code",
   "execution_count": null,
   "id": "081a3548",
   "metadata": {},
   "outputs": [],
   "source": []
  }
 ],
 "metadata": {
  "kernelspec": {
   "display_name": "Python 3",
   "language": "python",
   "name": "python3"
  },
  "language_info": {
   "codemirror_mode": {
    "name": "ipython",
    "version": 3
   },
   "file_extension": ".py",
   "mimetype": "text/x-python",
   "name": "python",
   "nbconvert_exporter": "python",
   "pygments_lexer": "ipython3",
   "version": "3.10.0"
  }
 },
 "nbformat": 4,
 "nbformat_minor": 5
}
